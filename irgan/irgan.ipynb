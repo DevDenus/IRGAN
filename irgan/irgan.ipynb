{
 "cells": [
  {
   "cell_type": "code",
   "execution_count": 508,
   "metadata": {},
   "outputs": [],
   "source": [
    "import os\n",
    "import time\n",
    "import numpy as np\n",
    "import pandas as pd\n",
    "import tensorflow as tf\n",
    "import tensorflow_datasets as tfds\n",
    "import matplotlib.pyplot as plt\n",
    "\n",
    "from tensorflow.keras import layers"
   ]
  },
  {
   "cell_type": "markdown",
   "metadata": {},
   "source": [
    "Предобработка"
   ]
  },
  {
   "cell_type": "code",
   "execution_count": 509,
   "metadata": {},
   "outputs": [],
   "source": [
    "dataset_path = \"datasets/item_recommendation\"\n",
    "list_of_files = os.listdir(dataset_path)\n",
    "\n",
    "column_names = ['movie_id,', 'user_id,', 'movie_rating']\n",
    "\n",
    "for ds in list_of_files:\n",
    "    with open(os.path.join(dataset_path, ds), 'r') as f:\n",
    "        lines = f.readlines()\n",
    "        new_lines = []\n",
    "        for line in lines:\n",
    "            new_lines.append(line.replace('\\t', ','))\n",
    "\n",
    "    with open(os.path.join(dataset_path, ds[:-3] + 'csv'), 'w') as f:\n",
    "        f.writelines(column_names)\n",
    "        f.write('\\n')\n",
    "        f.writelines(new_lines)\n"
   ]
  },
  {
   "cell_type": "code",
   "execution_count": 510,
   "metadata": {},
   "outputs": [],
   "source": [
    "movielens_train = tf.data.experimental.make_csv_dataset(\n",
    "    os.path.join(dataset_path, 'movielens-100k-train.csv'),\n",
    "    shuffle=True,\n",
    "    label_name='movie_rating',\n",
    "    batch_size=10\n",
    ")\n",
    "\n",
    "movielens_test = tf.data.experimental.make_csv_dataset(\n",
    "    os.path.join(dataset_path, 'movielens-100k-test.csv'),\n",
    "    shuffle=True,\n",
    "    label_name='movie_rating',\n",
    "    batch_size=10\n",
    ")\n",
    "\n",
    "train_total = int(movielens_train.cardinality())\n",
    "test_total = int(movielens_test.cardinality())"
   ]
  },
  {
   "cell_type": "code",
   "execution_count": 511,
   "metadata": {},
   "outputs": [],
   "source": [
    "def preprocess(value, label):\n",
    "    value = tf.transpose(tf.convert_to_tensor(list(value.values()), dtype=tf.float32))\n",
    "    label = tf.cast(label, tf.float32)\n",
    "    return value, label"
   ]
  },
  {
   "cell_type": "code",
   "execution_count": 512,
   "metadata": {},
   "outputs": [],
   "source": [
    "movielens_train = movielens_train.map(preprocess)\n",
    "movielens_test = movielens_test.map(preprocess)"
   ]
  },
  {
   "cell_type": "code",
   "execution_count": 513,
   "metadata": {},
   "outputs": [
    {
     "name": "stdout",
     "output_type": "stream",
     "text": [
      "tf.Tensor(\n",
      "[[  15.  683.]\n",
      " [  55.  226.]\n",
      " [ 129. 1078.]\n",
      " [ 185.  828.]\n",
      " [   0.    3.]\n",
      " [  24.    0.]\n",
      " [ 143.  587.]\n",
      " [  15.  320.]\n",
      " [ 144.  226.]\n",
      " [  20.  987.]], shape=(10, 2), dtype=float32) tf.Tensor([5. 3. 3. 4. 3. 5. 4. 3. 4. 1.], shape=(10,), dtype=float32)\n"
     ]
    },
    {
     "name": "stderr",
     "output_type": "stream",
     "text": [
      "2024-05-28 19:49:49.286428: W tensorflow/core/framework/local_rendezvous.cc:404] Local rendezvous is aborting with status: OUT_OF_RANGE: End of sequence\n"
     ]
    }
   ],
   "source": [
    "for value, label in movielens_train.take(1):\n",
    "    print(value, label)"
   ]
  },
  {
   "cell_type": "code",
   "execution_count": 514,
   "metadata": {},
   "outputs": [],
   "source": [
    "def Generator():\n",
    "    inputs = layers.Input(shape=[2])\n",
    "    x = layers.Dense(8, kernel_initializer=tf.random_normal_initializer(0., 0.02), activation='relu')(inputs)\n",
    "    x = layers.Dense(16, activation='relu')(x)\n",
    "    last = layers.Dense(1)(x)\n",
    "    return tf.keras.Model(inputs=inputs, outputs=last)"
   ]
  },
  {
   "cell_type": "code",
   "execution_count": 515,
   "metadata": {},
   "outputs": [],
   "source": [
    "LAMBDA = 100"
   ]
  },
  {
   "cell_type": "code",
   "execution_count": 516,
   "metadata": {},
   "outputs": [],
   "source": [
    "def generator_loss(discriminator_output, gen_output, target):\n",
    "    loss_fn = tf.keras.losses.BinaryCrossentropy(from_logits=True)\n",
    "    gan_loss = loss_fn(tf.ones_like(discriminator_output), discriminator_output)\n",
    "\n",
    "    l1_loss = tf.reduce_mean(tf.abs(target - gen_output))\n",
    "\n",
    "    total_gen_loss = gan_loss + LAMBDA*l1_loss\n",
    "\n",
    "    return total_gen_loss, gan_loss, l1_loss"
   ]
  },
  {
   "cell_type": "code",
   "execution_count": 517,
   "metadata": {},
   "outputs": [],
   "source": [
    "def Discriminator():\n",
    "    inp = layers.Input(shape=[2], name='input')\n",
    "    tar = layers.Input(shape=[1], name='target')\n",
    "    x = layers.Concatenate()([inp, tar])\n",
    "    x = layers.Dense(8, activation='relu')(x)\n",
    "    last = layers.Dense(2)(x)\n",
    "    return tf.keras.Model(inputs=[inp, tar], outputs=last)\n"
   ]
  },
  {
   "cell_type": "code",
   "execution_count": 518,
   "metadata": {},
   "outputs": [],
   "source": [
    "def discriminator_loss(disc_real_output, disc_gen_output):\n",
    "    loss_fn = tf.keras.losses.BinaryCrossentropy(from_logits=True)\n",
    "    real_loss = loss_fn(tf.ones_like(disc_real_output), disc_real_output)\n",
    "    gen_loss = loss_fn(tf.zeros_like(disc_gen_output), disc_gen_output)\n",
    "\n",
    "    total_disc_loss = real_loss + gen_loss\n",
    "\n",
    "    return total_disc_loss"
   ]
  },
  {
   "cell_type": "code",
   "execution_count": 519,
   "metadata": {},
   "outputs": [],
   "source": [
    "generator_optimizer = tf.keras.optimizers.Adam(2e-4, beta_1=0.5)\n",
    "discriminator_optimizer = tf.keras.optimizers.Adam(2e-4, beta_1=0.5)"
   ]
  },
  {
   "cell_type": "code",
   "execution_count": 520,
   "metadata": {},
   "outputs": [],
   "source": [
    "generator = Generator()\n",
    "discriminator = Discriminator()\n",
    "\n",
    "checkpoint_dir = './training_checkpoints'\n",
    "checkpoint_prefix = os.path.join(checkpoint_dir, \"ckpt\")\n",
    "checkpoint = tf.train.Checkpoint(generator_optimizer=generator_optimizer,\n",
    "                                 discriminator_optimizer=discriminator_optimizer,\n",
    "                                 generator=generator,\n",
    "                                 discriminator=discriminator)\n"
   ]
  },
  {
   "cell_type": "code",
   "execution_count": 521,
   "metadata": {},
   "outputs": [],
   "source": [
    "def test_accuracy(model, test_input, ground_truth):\n",
    "    prediction = model(test_input, training=True)\n",
    "    print(abs(ground_truth[0]-prediction[0]))\n"
   ]
  },
  {
   "cell_type": "code",
   "execution_count": 522,
   "metadata": {},
   "outputs": [],
   "source": [
    "@tf.function\n",
    "def train_step(input, target, step):\n",
    "  with tf.GradientTape() as gen_tape, tf.GradientTape() as disc_tape:\n",
    "    gen_output = generator(input, training=True)\n",
    "\n",
    "    disc_real_output = discriminator([input, target], training=True)\n",
    "    disc_generated_output = discriminator([input, gen_output], training=True)\n",
    "\n",
    "    gen_total_loss, gen_gan_loss, gen_l1_loss = generator_loss(disc_generated_output, gen_output, target)\n",
    "    disc_loss = discriminator_loss(disc_real_output, disc_generated_output)\n",
    "\n",
    "  generator_gradients = gen_tape.gradient(gen_total_loss,\n",
    "                                          generator.trainable_variables)\n",
    "  discriminator_gradients = disc_tape.gradient(disc_loss,\n",
    "                                               discriminator.trainable_variables)\n",
    "\n",
    "  generator_optimizer.apply_gradients(zip(generator_gradients,\n",
    "                                          generator.trainable_variables))\n",
    "  discriminator_optimizer.apply_gradients(zip(discriminator_gradients,\n",
    "                                              discriminator.trainable_variables))\n"
   ]
  },
  {
   "cell_type": "code",
   "execution_count": 523,
   "metadata": {},
   "outputs": [],
   "source": [
    "def fit(train_ds, test_ds, steps):\n",
    "  example_input, example_target = next(iter(test_ds.take(1)))\n",
    "  start = time.time()\n",
    "\n",
    "  for step, (input, target) in train_ds.take(steps).enumerate():\n",
    "    if (step) % 1000 == 0:\n",
    "\n",
    "      if step != 0:\n",
    "        print(f'Time taken for 1000 steps: {time.time()-start:.2f} sec\\n')\n",
    "\n",
    "      start = time.time()\n",
    "\n",
    "      test_accuracy(generator, example_input, example_target)\n",
    "      print(f\"Step: {step//1000}k\")\n",
    "\n",
    "    train_step(input, target, step)\n",
    "\n",
    "    # Training step\n",
    "    if (step+1) % 10 == 0:\n",
    "      print('.', end='', flush=True)\n",
    "\n",
    "\n",
    "    # Save (checkpoint) the model every 5k steps\n",
    "    if (step + 1) % 5000 == 0:\n",
    "      checkpoint.save(file_prefix=checkpoint_prefix)\n"
   ]
  },
  {
   "cell_type": "code",
   "execution_count": 524,
   "metadata": {},
   "outputs": [
    {
     "name": "stdout",
     "output_type": "stream",
     "text": [
      "tf.Tensor([10.348309], shape=(1,), dtype=float32)\n",
      "Step: 0k\n",
      "....................................................................................................Time taken for 1000 steps: 2.13 sec\n",
      "\n",
      "tf.Tensor([2.1568756], shape=(1,), dtype=float32)\n",
      "Step: 1k\n",
      "....................................................................................................Time taken for 1000 steps: 1.68 sec\n",
      "\n",
      "tf.Tensor([2.1510177], shape=(1,), dtype=float32)\n",
      "Step: 2k\n",
      "....................................................................................................Time taken for 1000 steps: 1.70 sec\n",
      "\n",
      "tf.Tensor([2.1672354], shape=(1,), dtype=float32)\n",
      "Step: 3k\n",
      "....................................................................................................Time taken for 1000 steps: 1.68 sec\n",
      "\n",
      "tf.Tensor([2.2303405], shape=(1,), dtype=float32)\n",
      "Step: 4k\n",
      "....................................................................................................Time taken for 1000 steps: 1.70 sec\n",
      "\n",
      "tf.Tensor([2.3988914], shape=(1,), dtype=float32)\n",
      "Step: 5k\n",
      "....................................................................................................Time taken for 1000 steps: 1.72 sec\n",
      "\n",
      "tf.Tensor([2.4190478], shape=(1,), dtype=float32)\n",
      "Step: 6k\n",
      "....................................................................................................Time taken for 1000 steps: 1.63 sec\n",
      "\n",
      "tf.Tensor([2.5035326], shape=(1,), dtype=float32)\n",
      "Step: 7k\n",
      "....................................................................................................Time taken for 1000 steps: 1.65 sec\n",
      "\n",
      "tf.Tensor([2.550962], shape=(1,), dtype=float32)\n",
      "Step: 8k\n",
      "....................................................................................................Time taken for 1000 steps: 1.62 sec\n",
      "\n",
      "tf.Tensor([0.9672198], shape=(1,), dtype=float32)\n",
      "Step: 9k\n",
      "....................................................................................................Time taken for 1000 steps: 1.62 sec\n",
      "\n",
      "tf.Tensor([1.2124443], shape=(1,), dtype=float32)\n",
      "Step: 10k\n",
      "....................................................................................................Time taken for 1000 steps: 1.65 sec\n",
      "\n",
      "tf.Tensor([1.1101139], shape=(1,), dtype=float32)\n",
      "Step: 11k\n",
      "....................................................................................................Time taken for 1000 steps: 1.65 sec\n",
      "\n",
      "tf.Tensor([1.1164086], shape=(1,), dtype=float32)\n",
      "Step: 12k\n",
      "....................................................................................................Time taken for 1000 steps: 1.66 sec\n",
      "\n",
      "tf.Tensor([1.1739831], shape=(1,), dtype=float32)\n",
      "Step: 13k\n",
      "....................................................................................................Time taken for 1000 steps: 1.65 sec\n",
      "\n",
      "tf.Tensor([1.2619767], shape=(1,), dtype=float32)\n",
      "Step: 14k\n",
      "....................................................................................................Time taken for 1000 steps: 1.65 sec\n",
      "\n",
      "tf.Tensor([1.2969375], shape=(1,), dtype=float32)\n",
      "Step: 15k\n",
      "....................................................................................................Time taken for 1000 steps: 1.66 sec\n",
      "\n",
      "tf.Tensor([2.4252517], shape=(1,), dtype=float32)\n",
      "Step: 16k\n",
      "....................................................................................................Time taken for 1000 steps: 1.63 sec\n",
      "\n",
      "tf.Tensor([0.61257553], shape=(1,), dtype=float32)\n",
      "Step: 17k\n",
      "....................................................................................................Time taken for 1000 steps: 1.63 sec\n",
      "\n",
      "tf.Tensor([0.86258316], shape=(1,), dtype=float32)\n",
      "Step: 18k\n",
      "....................................................................................................Time taken for 1000 steps: 1.65 sec\n",
      "\n",
      "tf.Tensor([0.661181], shape=(1,), dtype=float32)\n",
      "Step: 19k\n",
      "....................................................................................................Time taken for 1000 steps: 1.63 sec\n",
      "\n",
      "tf.Tensor([0.7046912], shape=(1,), dtype=float32)\n",
      "Step: 20k\n",
      "....................................................................................................Time taken for 1000 steps: 1.65 sec\n",
      "\n",
      "tf.Tensor([0.7689638], shape=(1,), dtype=float32)\n",
      "Step: 21k\n",
      "....................................................................................................Time taken for 1000 steps: 1.63 sec\n",
      "\n",
      "tf.Tensor([0.8643646], shape=(1,), dtype=float32)\n",
      "Step: 22k\n",
      "....................................................................................................Time taken for 1000 steps: 1.63 sec\n",
      "\n",
      "tf.Tensor([1.9332516], shape=(1,), dtype=float32)\n",
      "Step: 23k\n",
      "....................................................................................................Time taken for 1000 steps: 1.65 sec\n",
      "\n",
      "tf.Tensor([2.066148], shape=(1,), dtype=float32)\n",
      "Step: 24k\n",
      "....................................................................................................Time taken for 1000 steps: 1.64 sec\n",
      "\n",
      "tf.Tensor([0.41323137], shape=(1,), dtype=float32)\n",
      "Step: 25k\n",
      "....................................................................................................Time taken for 1000 steps: 1.66 sec\n",
      "\n",
      "tf.Tensor([0.4358065], shape=(1,), dtype=float32)\n",
      "Step: 26k\n",
      "....................................................................................................Time taken for 1000 steps: 1.64 sec\n",
      "\n",
      "tf.Tensor([0.33394027], shape=(1,), dtype=float32)\n",
      "Step: 27k\n",
      "....................................................................................................Time taken for 1000 steps: 1.63 sec\n",
      "\n",
      "tf.Tensor([0.3889146], shape=(1,), dtype=float32)\n",
      "Step: 28k\n",
      "....................................................................................................Time taken for 1000 steps: 1.67 sec\n",
      "\n",
      "tf.Tensor([1.2022564], shape=(1,), dtype=float32)\n",
      "Step: 29k\n",
      "....................................................................................................Time taken for 1000 steps: 1.65 sec\n",
      "\n",
      "tf.Tensor([1.6026878], shape=(1,), dtype=float32)\n",
      "Step: 30k\n",
      "....................................................................................................Time taken for 1000 steps: 1.65 sec\n",
      "\n",
      "tf.Tensor([1.3868384], shape=(1,), dtype=float32)\n",
      "Step: 31k\n",
      "....................................................................................................Time taken for 1000 steps: 1.63 sec\n",
      "\n",
      "tf.Tensor([1.2081442], shape=(1,), dtype=float32)\n",
      "Step: 32k\n",
      "....................................................................................................Time taken for 1000 steps: 1.65 sec\n",
      "\n",
      "tf.Tensor([0.83661175], shape=(1,), dtype=float32)\n",
      "Step: 33k\n",
      "....................................................................................................Time taken for 1000 steps: 1.71 sec\n",
      "\n",
      "tf.Tensor([0.6240244], shape=(1,), dtype=float32)\n",
      "Step: 34k\n",
      "....................................................................................................Time taken for 1000 steps: 1.66 sec\n",
      "\n",
      "tf.Tensor([0.5979519], shape=(1,), dtype=float32)\n",
      "Step: 35k\n",
      "....................................................................................................Time taken for 1000 steps: 1.65 sec\n",
      "\n",
      "tf.Tensor([0.43765998], shape=(1,), dtype=float32)\n",
      "Step: 36k\n",
      "....................................................................................................Time taken for 1000 steps: 1.68 sec\n",
      "\n",
      "tf.Tensor([0.86014867], shape=(1,), dtype=float32)\n",
      "Step: 37k\n",
      "....................................................................................................Time taken for 1000 steps: 1.70 sec\n",
      "\n",
      "tf.Tensor([1.0924258], shape=(1,), dtype=float32)\n",
      "Step: 38k\n",
      "....................................................................................................Time taken for 1000 steps: 1.69 sec\n",
      "\n",
      "tf.Tensor([0.5316484], shape=(1,), dtype=float32)\n",
      "Step: 39k\n",
      "...................................................................................................."
     ]
    },
    {
     "name": "stderr",
     "output_type": "stream",
     "text": [
      "2024-05-28 19:50:57.022667: W tensorflow/core/framework/local_rendezvous.cc:404] Local rendezvous is aborting with status: OUT_OF_RANGE: End of sequence\n"
     ]
    }
   ],
   "source": [
    "fit(movielens_train, movielens_test, 40000)"
   ]
  }
 ],
 "metadata": {
  "kernelspec": {
   "display_name": "venv",
   "language": "python",
   "name": "python3"
  },
  "language_info": {
   "codemirror_mode": {
    "name": "ipython",
    "version": 3
   },
   "file_extension": ".py",
   "mimetype": "text/x-python",
   "name": "python",
   "nbconvert_exporter": "python",
   "pygments_lexer": "ipython3",
   "version": "3.12.3"
  }
 },
 "nbformat": 4,
 "nbformat_minor": 2
}
